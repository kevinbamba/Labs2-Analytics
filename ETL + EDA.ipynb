{
 "cells": [
  {
   "attachments": {},
   "cell_type": "markdown",
   "metadata": {},
   "source": [
    "                                             EDA + ETL"
   ]
  },
  {
   "attachments": {},
   "cell_type": "markdown",
   "metadata": {},
   "source": [
    "LIBRERIAS A IMPORTAR"
   ]
  },
  {
   "cell_type": "code",
   "execution_count": 153,
   "metadata": {},
   "outputs": [],
   "source": [
    "import pandas as pd\n",
    "import numpy as np\n",
    "import matplotlib.pyplot as plt\n",
    "import seaborn as sns\n"
   ]
  },
  {
   "attachments": {},
   "cell_type": "markdown",
   "metadata": {},
   "source": [
    "IMPORTACION DE DATASET DE \"AccidentesAviones.csv\""
   ]
  },
  {
   "cell_type": "code",
   "execution_count": 154,
   "metadata": {},
   "outputs": [
    {
     "data": {
      "text/html": [
       "<div>\n",
       "<style scoped>\n",
       "    .dataframe tbody tr th:only-of-type {\n",
       "        vertical-align: middle;\n",
       "    }\n",
       "\n",
       "    .dataframe tbody tr th {\n",
       "        vertical-align: top;\n",
       "    }\n",
       "\n",
       "    .dataframe thead th {\n",
       "        text-align: right;\n",
       "    }\n",
       "</style>\n",
       "<table border=\"1\" class=\"dataframe\">\n",
       "  <thead>\n",
       "    <tr style=\"text-align: right;\">\n",
       "      <th></th>\n",
       "      <th>Unnamed: 0</th>\n",
       "      <th>fecha</th>\n",
       "      <th>HORA declarada</th>\n",
       "      <th>Ruta</th>\n",
       "      <th>OperadOR</th>\n",
       "      <th>flight_no</th>\n",
       "      <th>route</th>\n",
       "      <th>ac_type</th>\n",
       "      <th>registration</th>\n",
       "      <th>cn_ln</th>\n",
       "      <th>all_aboard</th>\n",
       "      <th>PASAJEROS A BORDO</th>\n",
       "      <th>crew_aboard</th>\n",
       "      <th>cantidad de fallecidos</th>\n",
       "      <th>passenger_fatalities</th>\n",
       "      <th>crew_fatalities</th>\n",
       "      <th>ground</th>\n",
       "      <th>summary</th>\n",
       "    </tr>\n",
       "  </thead>\n",
       "  <tbody>\n",
       "    <tr>\n",
       "      <th>0</th>\n",
       "      <td>0</td>\n",
       "      <td>September 17, 1908</td>\n",
       "      <td>1718</td>\n",
       "      <td>Fort Myer, Virginia</td>\n",
       "      <td>Military - U.S. Army</td>\n",
       "      <td>?</td>\n",
       "      <td>Demonstration</td>\n",
       "      <td>Wright Flyer III</td>\n",
       "      <td>?</td>\n",
       "      <td>1</td>\n",
       "      <td>2</td>\n",
       "      <td>1</td>\n",
       "      <td>1</td>\n",
       "      <td>1</td>\n",
       "      <td>1</td>\n",
       "      <td>0</td>\n",
       "      <td>0</td>\n",
       "      <td>During a demonstration flight, a U.S. Army fly...</td>\n",
       "    </tr>\n",
       "    <tr>\n",
       "      <th>1</th>\n",
       "      <td>1</td>\n",
       "      <td>September 07, 1909</td>\n",
       "      <td>?</td>\n",
       "      <td>Juvisy-sur-Orge, France</td>\n",
       "      <td>?</td>\n",
       "      <td>?</td>\n",
       "      <td>Air show</td>\n",
       "      <td>Wright Byplane</td>\n",
       "      <td>SC1</td>\n",
       "      <td>?</td>\n",
       "      <td>1</td>\n",
       "      <td>0</td>\n",
       "      <td>1</td>\n",
       "      <td>1</td>\n",
       "      <td>0</td>\n",
       "      <td>0</td>\n",
       "      <td>0</td>\n",
       "      <td>Eugene Lefebvre was the first pilot to ever be...</td>\n",
       "    </tr>\n",
       "    <tr>\n",
       "      <th>2</th>\n",
       "      <td>2</td>\n",
       "      <td>July 12, 1912</td>\n",
       "      <td>0630</td>\n",
       "      <td>Atlantic City, New Jersey</td>\n",
       "      <td>Military - U.S. Navy</td>\n",
       "      <td>?</td>\n",
       "      <td>Test flight</td>\n",
       "      <td>Dirigible</td>\n",
       "      <td>?</td>\n",
       "      <td>?</td>\n",
       "      <td>5</td>\n",
       "      <td>0</td>\n",
       "      <td>5</td>\n",
       "      <td>5</td>\n",
       "      <td>0</td>\n",
       "      <td>5</td>\n",
       "      <td>0</td>\n",
       "      <td>First U.S. dirigible Akron exploded just offsh...</td>\n",
       "    </tr>\n",
       "    <tr>\n",
       "      <th>3</th>\n",
       "      <td>3</td>\n",
       "      <td>August 06, 1913</td>\n",
       "      <td>?</td>\n",
       "      <td>Victoria, British Columbia, Canada</td>\n",
       "      <td>Private</td>\n",
       "      <td>?</td>\n",
       "      <td>?</td>\n",
       "      <td>Curtiss seaplane</td>\n",
       "      <td>?</td>\n",
       "      <td>?</td>\n",
       "      <td>1</td>\n",
       "      <td>0</td>\n",
       "      <td>1</td>\n",
       "      <td>1</td>\n",
       "      <td>0</td>\n",
       "      <td>1</td>\n",
       "      <td>0</td>\n",
       "      <td>The first fatal airplane accident in Canada oc...</td>\n",
       "    </tr>\n",
       "    <tr>\n",
       "      <th>4</th>\n",
       "      <td>4</td>\n",
       "      <td>September 09, 1913</td>\n",
       "      <td>1830</td>\n",
       "      <td>Over the North Sea</td>\n",
       "      <td>Military - German Navy</td>\n",
       "      <td>?</td>\n",
       "      <td>?</td>\n",
       "      <td>Zeppelin L-1 (airship)</td>\n",
       "      <td>?</td>\n",
       "      <td>?</td>\n",
       "      <td>20</td>\n",
       "      <td>?</td>\n",
       "      <td>?</td>\n",
       "      <td>14</td>\n",
       "      <td>?</td>\n",
       "      <td>?</td>\n",
       "      <td>0</td>\n",
       "      <td>The airship flew into a thunderstorm and encou...</td>\n",
       "    </tr>\n",
       "  </tbody>\n",
       "</table>\n",
       "</div>"
      ],
      "text/plain": [
       "   Unnamed: 0               fecha HORA declarada   \n",
       "0           0  September 17, 1908           1718  \\\n",
       "1           1  September 07, 1909              ?   \n",
       "2           2       July 12, 1912           0630   \n",
       "3           3     August 06, 1913              ?   \n",
       "4           4  September 09, 1913           1830   \n",
       "\n",
       "                                 Ruta                OperadOR flight_no   \n",
       "0                 Fort Myer, Virginia    Military - U.S. Army         ?  \\\n",
       "1             Juvisy-sur-Orge, France                       ?         ?   \n",
       "2           Atlantic City, New Jersey    Military - U.S. Navy         ?   \n",
       "3  Victoria, British Columbia, Canada                 Private         ?   \n",
       "4                  Over the North Sea  Military - German Navy         ?   \n",
       "\n",
       "           route                 ac_type registration cn_ln all_aboard   \n",
       "0  Demonstration        Wright Flyer III            ?     1          2  \\\n",
       "1       Air show          Wright Byplane          SC1     ?          1   \n",
       "2    Test flight               Dirigible            ?     ?          5   \n",
       "3              ?        Curtiss seaplane            ?     ?          1   \n",
       "4              ?  Zeppelin L-1 (airship)            ?     ?         20   \n",
       "\n",
       "  PASAJEROS A BORDO crew_aboard cantidad de fallecidos passenger_fatalities   \n",
       "0                 1           1                      1                    1  \\\n",
       "1                 0           1                      1                    0   \n",
       "2                 0           5                      5                    0   \n",
       "3                 0           1                      1                    0   \n",
       "4                 ?           ?                     14                    ?   \n",
       "\n",
       "  crew_fatalities ground                                            summary  \n",
       "0               0      0  During a demonstration flight, a U.S. Army fly...  \n",
       "1               0      0  Eugene Lefebvre was the first pilot to ever be...  \n",
       "2               5      0  First U.S. dirigible Akron exploded just offsh...  \n",
       "3               1      0  The first fatal airplane accident in Canada oc...  \n",
       "4               ?      0  The airship flew into a thunderstorm and encou...  "
      ]
     },
     "execution_count": 154,
     "metadata": {},
     "output_type": "execute_result"
    }
   ],
   "source": [
    "datos = pd.read_csv(\"Datasets\\AccidentesAviones.csv\")\n",
    "datos.head()"
   ]
  },
  {
   "cell_type": "code",
   "execution_count": 155,
   "metadata": {},
   "outputs": [
    {
     "name": "stdout",
     "output_type": "stream",
     "text": [
      "<class 'pandas.core.frame.DataFrame'>\n",
      "RangeIndex: 5008 entries, 0 to 5007\n",
      "Data columns (total 18 columns):\n",
      " #   Column                  Non-Null Count  Dtype \n",
      "---  ------                  --------------  ----- \n",
      " 0   Unnamed: 0              5008 non-null   int64 \n",
      " 1   fecha                   5008 non-null   object\n",
      " 2   HORA declarada          5008 non-null   object\n",
      " 3   Ruta                    5008 non-null   object\n",
      " 4   OperadOR                5008 non-null   object\n",
      " 5   flight_no               5008 non-null   object\n",
      " 6   route                   5007 non-null   object\n",
      " 7   ac_type                 5008 non-null   object\n",
      " 8   registration            5008 non-null   object\n",
      " 9   cn_ln                   5008 non-null   object\n",
      " 10  all_aboard              5008 non-null   object\n",
      " 11  PASAJEROS A BORDO       5008 non-null   object\n",
      " 12  crew_aboard             5008 non-null   object\n",
      " 13  cantidad de fallecidos  5008 non-null   object\n",
      " 14  passenger_fatalities    5008 non-null   object\n",
      " 15  crew_fatalities         5008 non-null   object\n",
      " 16  ground                  5008 non-null   object\n",
      " 17  summary                 5008 non-null   object\n",
      "dtypes: int64(1), object(17)\n",
      "memory usage: 704.4+ KB\n"
     ]
    }
   ],
   "source": [
    "datos.info()\n"
   ]
  },
  {
   "attachments": {},
   "cell_type": "markdown",
   "metadata": {},
   "source": [
    "Primero voy a normalizar los nombres de las columnas al Español junto con su correcto tipo de dato y los valores que aparecen con \"?\" los voy a tomar como datos nulos. En el proceso voy a dropear las columnas que no vaya a utilizar."
   ]
  },
  {
   "cell_type": "code",
   "execution_count": 156,
   "metadata": {},
   "outputs": [],
   "source": [
    "datos.rename(columns={\"fecha\":\"Fecha\",\n",
    "                        \"HORA declarada\":\"Hora declarada\",           \n",
    "                        \"OperadOR\":\"Operador\",\n",
    "                        \"flight_no\": \"Numero de vuelo\",          \n",
    "                        \"route\": \"Tipo de vuelo\",\n",
    "                        \"ac_type\": \"Tipo de aeronave\",               \n",
    "                        \"registration\": \"Registro\",             \n",
    "                        \"cn_ln\": \"Codigo de vuelo\",\n",
    "                        \"all_aboard\": \"Total a bordo\",\n",
    "                        \"PASAJEROS A BORDO\":\"Pasajeros a bordo\",\n",
    "                        \"crew_aboard\":\"Personal a bordo\",\n",
    "                        \"cantidad de fallecidos\": \"Cantidad de fallecidos\",\n",
    "                        \"passenger_fatalities\": \"Pasajeros fallecidos\",\n",
    "                        \"crew_fatalities\": \"Personal fallecidos\",\n",
    "                        \"ground\": \"Accidente terrestre\",\n",
    "                        \"summary\": \"Resumen\"\n",
    "                        },inplace=True)"
   ]
  },
  {
   "cell_type": "code",
   "execution_count": 157,
   "metadata": {},
   "outputs": [],
   "source": [
    "datos['Fecha'] = pd.to_datetime(datos['Fecha'])\n",
    "\n",
    "# Creo una nueva columna con solo el año y dropeamos la columna Fecha, ya que voy a trabajar con promedios anuales\n",
    "datos['Año'] = datos['Fecha'].dt.year\n",
    "datos.drop(columns=[\"Fecha\"],inplace=True)"
   ]
  },
  {
   "cell_type": "code",
   "execution_count": 158,
   "metadata": {},
   "outputs": [],
   "source": [
    "# veo que los faltantes estan como el string: '?'\n",
    "# reemplazo por NaN\n",
    "datos.replace('?', np.nan , inplace=True)\n"
   ]
  },
  {
   "cell_type": "code",
   "execution_count": 159,
   "metadata": {},
   "outputs": [
    {
     "data": {
      "text/plain": [
       "Unnamed: 0                   0\n",
       "Hora declarada            1504\n",
       "Ruta                         5\n",
       "Operador                    10\n",
       "Numero de vuelo           3682\n",
       "Tipo de vuelo              763\n",
       "Tipo de aeronave            13\n",
       "Registro                   272\n",
       "Codigo de vuelo            667\n",
       "Total a bordo               17\n",
       "Pasajeros a bordo          221\n",
       "Personal a bordo           219\n",
       "Cantidad de fallecidos       8\n",
       "Pasajeros fallecidos       235\n",
       "Personal fallecidos        235\n",
       "Accidente terrestre         44\n",
       "Resumen                     59\n",
       "Año                          0\n",
       "dtype: int64"
      ]
     },
     "execution_count": 159,
     "metadata": {},
     "output_type": "execute_result"
    }
   ],
   "source": [
    "datos.isna().sum()\n"
   ]
  },
  {
   "cell_type": "code",
   "execution_count": 160,
   "metadata": {},
   "outputs": [],
   "source": [
    "#Dropeo columnas que ya a previa vista puedo notar que no voy a usar\n",
    "datos.drop(columns=[\"Unnamed: 0\", \"Hora declarada\", \"Numero de vuelo\", \"Codigo de vuelo\", \"Resumen\"], inplace=True)\n"
   ]
  },
  {
   "cell_type": "code",
   "execution_count": 161,
   "metadata": {},
   "outputs": [],
   "source": [
    "# Y voy a tomar solo las filas que sean !=0 en la columna \"Total a bordo\" porque si es 0 significaria que no habia pasajeros ni personal a bordo\n",
    "datos = datos[datos['Total a bordo'] != 0]\n",
    "#Y si la cantidad de fallecidos es 0, significa que no hubo muertos por ende la fatalidad de pasajeros y tripulantes seria 0\n",
    "datos['Pasajeros fallecidos'].fillna(datos['Cantidad de fallecidos'].apply(lambda x:0 if x == 0 else np.nan), inplace=True)"
   ]
  },
  {
   "cell_type": "code",
   "execution_count": 162,
   "metadata": {},
   "outputs": [
    {
     "data": {
      "text/plain": [
       "Ruta                        5\n",
       "Operador                   10\n",
       "Tipo de vuelo             763\n",
       "Tipo de aeronave           13\n",
       "Registro                  272\n",
       "Total a bordo              17\n",
       "Pasajeros a bordo         221\n",
       "Personal a bordo          219\n",
       "Cantidad de fallecidos      8\n",
       "Pasajeros fallecidos      235\n",
       "Personal fallecidos       235\n",
       "Accidente terrestre        44\n",
       "Año                         0\n",
       "dtype: int64"
      ]
     },
     "execution_count": 162,
     "metadata": {},
     "output_type": "execute_result"
    }
   ],
   "source": [
    "datos.isna().sum()"
   ]
  },
  {
   "cell_type": "code",
   "execution_count": 163,
   "metadata": {},
   "outputs": [
    {
     "data": {
      "text/plain": [
       "Ruta                      0\n",
       "Operador                  0\n",
       "Tipo de aeronave          0\n",
       "Registro                  0\n",
       "Total a bordo             0\n",
       "Pasajeros a bordo         0\n",
       "Personal a bordo          0\n",
       "Cantidad de fallecidos    0\n",
       "Pasajeros fallecidos      0\n",
       "Personal fallecidos       0\n",
       "Accidente terrestre       0\n",
       "Año                       0\n",
       "dtype: int64"
      ]
     },
     "execution_count": 163,
     "metadata": {},
     "output_type": "execute_result"
    }
   ],
   "source": [
    "#Dropeamos la columna tipo de vuelo, lo que nos deja col las demas columnas con faltantes menores al 5% de datos totales\n",
    "datos = datos.drop(\"Tipo de vuelo\", axis=1)\n",
    "#Eliminamos los datos nulos \n",
    "datos = datos.dropna()\n",
    "datos.isna().sum()"
   ]
  },
  {
   "cell_type": "code",
   "execution_count": 164,
   "metadata": {},
   "outputs": [],
   "source": [
    "# Convertir las columnas de tipo objeto a tipo numerico\n",
    "datos['Personal a bordo'] = datos['Personal a bordo'].astype(\"int64\")\n",
    "datos['Pasajeros a bordo'] = datos['Pasajeros a bordo'].astype(\"int64\")\n",
    "datos['Pasajeros fallecidos'] = datos['Pasajeros fallecidos'].astype(\"int64\")\n",
    "datos['Personal fallecidos'] = datos['Personal fallecidos'].astype(\"int64\")\n",
    "datos[\"Total a bordo\"] = datos[\"Total a bordo\"].astype(\"int64\")\n",
    "datos[\"Cantidad de fallecidos\"] = datos[\"Cantidad de fallecidos\"].astype(\"int64\")\n",
    "datos[\"Accidente terrestre\"] = datos[\"Accidente terrestre\"].astype(\"int64\")\n"
   ]
  },
  {
   "cell_type": "code",
   "execution_count": 165,
   "metadata": {},
   "outputs": [],
   "source": [
    "datos=datos.reset_index(drop=True)  #-- reseteo los indices"
   ]
  },
  {
   "cell_type": "code",
   "execution_count": 166,
   "metadata": {},
   "outputs": [
    {
     "name": "stdout",
     "output_type": "stream",
     "text": [
      "Ruta                      0\n",
      "Operador                  0\n",
      "Tipo de aeronave          0\n",
      "Registro                  0\n",
      "Total a bordo             0\n",
      "Pasajeros a bordo         0\n",
      "Personal a bordo          0\n",
      "Cantidad de fallecidos    0\n",
      "Pasajeros fallecidos      0\n",
      "Personal fallecidos       0\n",
      "Accidente terrestre       0\n",
      "Año                       0\n",
      "dtype: int64\n"
     ]
    },
    {
     "data": {
      "text/html": [
       "<div>\n",
       "<style scoped>\n",
       "    .dataframe tbody tr th:only-of-type {\n",
       "        vertical-align: middle;\n",
       "    }\n",
       "\n",
       "    .dataframe tbody tr th {\n",
       "        vertical-align: top;\n",
       "    }\n",
       "\n",
       "    .dataframe thead th {\n",
       "        text-align: right;\n",
       "    }\n",
       "</style>\n",
       "<table border=\"1\" class=\"dataframe\">\n",
       "  <thead>\n",
       "    <tr style=\"text-align: right;\">\n",
       "      <th></th>\n",
       "      <th>Ruta</th>\n",
       "      <th>Operador</th>\n",
       "      <th>Tipo de aeronave</th>\n",
       "      <th>Registro</th>\n",
       "      <th>Total a bordo</th>\n",
       "      <th>Pasajeros a bordo</th>\n",
       "      <th>Personal a bordo</th>\n",
       "      <th>Cantidad de fallecidos</th>\n",
       "      <th>Pasajeros fallecidos</th>\n",
       "      <th>Personal fallecidos</th>\n",
       "      <th>Accidente terrestre</th>\n",
       "      <th>Año</th>\n",
       "    </tr>\n",
       "  </thead>\n",
       "  <tbody>\n",
       "    <tr>\n",
       "      <th>0</th>\n",
       "      <td>Elizabeth, New Jersey</td>\n",
       "      <td>US Aerial Mail Service</td>\n",
       "      <td>De Havilland DH-4</td>\n",
       "      <td>97</td>\n",
       "      <td>1</td>\n",
       "      <td>0</td>\n",
       "      <td>1</td>\n",
       "      <td>1</td>\n",
       "      <td>0</td>\n",
       "      <td>1</td>\n",
       "      <td>0</td>\n",
       "      <td>1918</td>\n",
       "    </tr>\n",
       "    <tr>\n",
       "      <th>1</th>\n",
       "      <td>Cleveland, Ohio</td>\n",
       "      <td>US Aerial Mail Service</td>\n",
       "      <td>De Havilland DH-4</td>\n",
       "      <td>61</td>\n",
       "      <td>1</td>\n",
       "      <td>0</td>\n",
       "      <td>1</td>\n",
       "      <td>1</td>\n",
       "      <td>0</td>\n",
       "      <td>1</td>\n",
       "      <td>0</td>\n",
       "      <td>1919</td>\n",
       "    </tr>\n",
       "    <tr>\n",
       "      <th>2</th>\n",
       "      <td>Dix Run, Pennsylvania</td>\n",
       "      <td>US Aerial Mail Service</td>\n",
       "      <td>De Havilland DH-4</td>\n",
       "      <td>82</td>\n",
       "      <td>1</td>\n",
       "      <td>0</td>\n",
       "      <td>1</td>\n",
       "      <td>1</td>\n",
       "      <td>0</td>\n",
       "      <td>1</td>\n",
       "      <td>0</td>\n",
       "      <td>1919</td>\n",
       "    </tr>\n",
       "    <tr>\n",
       "      <th>3</th>\n",
       "      <td>Cantonsville, Maryland</td>\n",
       "      <td>US Aerial Mail Service</td>\n",
       "      <td>Curtiss R-4LM</td>\n",
       "      <td>32</td>\n",
       "      <td>1</td>\n",
       "      <td>0</td>\n",
       "      <td>1</td>\n",
       "      <td>1</td>\n",
       "      <td>0</td>\n",
       "      <td>1</td>\n",
       "      <td>0</td>\n",
       "      <td>1919</td>\n",
       "    </tr>\n",
       "    <tr>\n",
       "      <th>4</th>\n",
       "      <td>English Channel off Forkstone, Kent</td>\n",
       "      <td>Aircraft Transport and Travel</td>\n",
       "      <td>De Havilland DH-4</td>\n",
       "      <td>G-EAHG</td>\n",
       "      <td>0</td>\n",
       "      <td>0</td>\n",
       "      <td>1</td>\n",
       "      <td>0</td>\n",
       "      <td>0</td>\n",
       "      <td>0</td>\n",
       "      <td>0</td>\n",
       "      <td>1919</td>\n",
       "    </tr>\n",
       "  </tbody>\n",
       "</table>\n",
       "</div>"
      ],
      "text/plain": [
       "                                  Ruta                       Operador   \n",
       "0                Elizabeth, New Jersey         US Aerial Mail Service  \\\n",
       "1                      Cleveland, Ohio         US Aerial Mail Service   \n",
       "2                Dix Run, Pennsylvania         US Aerial Mail Service   \n",
       "3               Cantonsville, Maryland         US Aerial Mail Service   \n",
       "4  English Channel off Forkstone, Kent  Aircraft Transport and Travel   \n",
       "\n",
       "    Tipo de aeronave Registro  Total a bordo  Pasajeros a bordo   \n",
       "0  De Havilland DH-4       97              1                  0  \\\n",
       "1  De Havilland DH-4       61              1                  0   \n",
       "2  De Havilland DH-4       82              1                  0   \n",
       "3      Curtiss R-4LM       32              1                  0   \n",
       "4  De Havilland DH-4   G-EAHG              0                  0   \n",
       "\n",
       "   Personal a bordo  Cantidad de fallecidos  Pasajeros fallecidos   \n",
       "0                 1                       1                     0  \\\n",
       "1                 1                       1                     0   \n",
       "2                 1                       1                     0   \n",
       "3                 1                       1                     0   \n",
       "4                 1                       0                     0   \n",
       "\n",
       "   Personal fallecidos  Accidente terrestre   Año  \n",
       "0                    1                    0  1918  \n",
       "1                    1                    0  1919  \n",
       "2                    1                    0  1919  \n",
       "3                    1                    0  1919  \n",
       "4                    0                    0  1919  "
      ]
     },
     "execution_count": 166,
     "metadata": {},
     "output_type": "execute_result"
    }
   ],
   "source": [
    "print(datos.isna().sum())\n",
    "datos.head()"
   ]
  },
  {
   "cell_type": "code",
   "execution_count": 168,
   "metadata": {},
   "outputs": [],
   "source": [
    "\n",
    "# Evaluar y completar los valores en Total a bordo\n",
    "datos['Total a bordo'] = datos.apply(lambda row: row['Pasajeros a bordo'] + row['Personal a bordo'] if row['Total a bordo'] == 0 else row['Total a bordo'], axis=1)\n",
    "\n",
    "# Evaluar y completar los valores en Cantidad de fallecidos\n",
    "datos['Cantidad de fallecidos'] = datos.apply(lambda row: row['Pasajeros fallecidos'] + row['Personal fallecidos'] if row['Cantidad de fallecidos'] == 0 else row['Cantidad de fallecidos'], axis=1)\n"
   ]
  },
  {
   "cell_type": "code",
   "execution_count": 169,
   "metadata": {},
   "outputs": [
    {
     "data": {
      "text/html": [
       "<div>\n",
       "<style scoped>\n",
       "    .dataframe tbody tr th:only-of-type {\n",
       "        vertical-align: middle;\n",
       "    }\n",
       "\n",
       "    .dataframe tbody tr th {\n",
       "        vertical-align: top;\n",
       "    }\n",
       "\n",
       "    .dataframe thead th {\n",
       "        text-align: right;\n",
       "    }\n",
       "</style>\n",
       "<table border=\"1\" class=\"dataframe\">\n",
       "  <thead>\n",
       "    <tr style=\"text-align: right;\">\n",
       "      <th></th>\n",
       "      <th>Ruta</th>\n",
       "      <th>Operador</th>\n",
       "      <th>Tipo de aeronave</th>\n",
       "      <th>Registro</th>\n",
       "      <th>Total a bordo</th>\n",
       "      <th>Pasajeros a bordo</th>\n",
       "      <th>Personal a bordo</th>\n",
       "      <th>Cantidad de fallecidos</th>\n",
       "      <th>Pasajeros fallecidos</th>\n",
       "      <th>Personal fallecidos</th>\n",
       "      <th>Accidente terrestre</th>\n",
       "      <th>Año</th>\n",
       "    </tr>\n",
       "  </thead>\n",
       "  <tbody>\n",
       "    <tr>\n",
       "      <th>0</th>\n",
       "      <td>Elizabeth, New Jersey</td>\n",
       "      <td>US Aerial Mail Service</td>\n",
       "      <td>De Havilland DH-4</td>\n",
       "      <td>97</td>\n",
       "      <td>1</td>\n",
       "      <td>0</td>\n",
       "      <td>1</td>\n",
       "      <td>1</td>\n",
       "      <td>0</td>\n",
       "      <td>1</td>\n",
       "      <td>0</td>\n",
       "      <td>1918</td>\n",
       "    </tr>\n",
       "    <tr>\n",
       "      <th>1</th>\n",
       "      <td>Cleveland, Ohio</td>\n",
       "      <td>US Aerial Mail Service</td>\n",
       "      <td>De Havilland DH-4</td>\n",
       "      <td>61</td>\n",
       "      <td>1</td>\n",
       "      <td>0</td>\n",
       "      <td>1</td>\n",
       "      <td>1</td>\n",
       "      <td>0</td>\n",
       "      <td>1</td>\n",
       "      <td>0</td>\n",
       "      <td>1919</td>\n",
       "    </tr>\n",
       "    <tr>\n",
       "      <th>2</th>\n",
       "      <td>Dix Run, Pennsylvania</td>\n",
       "      <td>US Aerial Mail Service</td>\n",
       "      <td>De Havilland DH-4</td>\n",
       "      <td>82</td>\n",
       "      <td>1</td>\n",
       "      <td>0</td>\n",
       "      <td>1</td>\n",
       "      <td>1</td>\n",
       "      <td>0</td>\n",
       "      <td>1</td>\n",
       "      <td>0</td>\n",
       "      <td>1919</td>\n",
       "    </tr>\n",
       "    <tr>\n",
       "      <th>3</th>\n",
       "      <td>Cantonsville, Maryland</td>\n",
       "      <td>US Aerial Mail Service</td>\n",
       "      <td>Curtiss R-4LM</td>\n",
       "      <td>32</td>\n",
       "      <td>1</td>\n",
       "      <td>0</td>\n",
       "      <td>1</td>\n",
       "      <td>1</td>\n",
       "      <td>0</td>\n",
       "      <td>1</td>\n",
       "      <td>0</td>\n",
       "      <td>1919</td>\n",
       "    </tr>\n",
       "    <tr>\n",
       "      <th>4</th>\n",
       "      <td>English Channel off Forkstone, Kent</td>\n",
       "      <td>Aircraft Transport and Travel</td>\n",
       "      <td>De Havilland DH-4</td>\n",
       "      <td>G-EAHG</td>\n",
       "      <td>1</td>\n",
       "      <td>0</td>\n",
       "      <td>1</td>\n",
       "      <td>0</td>\n",
       "      <td>0</td>\n",
       "      <td>0</td>\n",
       "      <td>0</td>\n",
       "      <td>1919</td>\n",
       "    </tr>\n",
       "  </tbody>\n",
       "</table>\n",
       "</div>"
      ],
      "text/plain": [
       "                                  Ruta                       Operador   \n",
       "0                Elizabeth, New Jersey         US Aerial Mail Service  \\\n",
       "1                      Cleveland, Ohio         US Aerial Mail Service   \n",
       "2                Dix Run, Pennsylvania         US Aerial Mail Service   \n",
       "3               Cantonsville, Maryland         US Aerial Mail Service   \n",
       "4  English Channel off Forkstone, Kent  Aircraft Transport and Travel   \n",
       "\n",
       "    Tipo de aeronave Registro  Total a bordo  Pasajeros a bordo   \n",
       "0  De Havilland DH-4       97              1                  0  \\\n",
       "1  De Havilland DH-4       61              1                  0   \n",
       "2  De Havilland DH-4       82              1                  0   \n",
       "3      Curtiss R-4LM       32              1                  0   \n",
       "4  De Havilland DH-4   G-EAHG              1                  0   \n",
       "\n",
       "   Personal a bordo  Cantidad de fallecidos  Pasajeros fallecidos   \n",
       "0                 1                       1                     0  \\\n",
       "1                 1                       1                     0   \n",
       "2                 1                       1                     0   \n",
       "3                 1                       1                     0   \n",
       "4                 1                       0                     0   \n",
       "\n",
       "   Personal fallecidos  Accidente terrestre   Año  \n",
       "0                    1                    0  1918  \n",
       "1                    1                    0  1919  \n",
       "2                    1                    0  1919  \n",
       "3                    1                    0  1919  \n",
       "4                    0                    0  1919  "
      ]
     },
     "execution_count": 169,
     "metadata": {},
     "output_type": "execute_result"
    }
   ],
   "source": [
    "datos.head()"
   ]
  },
  {
   "cell_type": "code",
   "execution_count": 170,
   "metadata": {},
   "outputs": [],
   "source": [
    "# Calcular la tasa de mortalidad anual para cada año\n",
    "\n",
    "datos['Tasa_Mortalidad_Anual'] = datos['Cantidad de fallecidos'] / \\\n",
    "    datos['Total a bordo'] * 100\n"
   ]
  },
  {
   "attachments": {},
   "cell_type": "markdown",
   "metadata": {},
   "source": [
    "Vamos a ver la cantidad de accidentes por año"
   ]
  },
  {
   "cell_type": "code",
   "execution_count": 171,
   "metadata": {},
   "outputs": [
    {
     "data": {
      "image/png": "[encoded data removed]",
      "text/plain": [
       "<Figure size 640x480 with 1 Axes>"
      ]
     },
     "metadata": {},
     "output_type": "display_data"
    }
   ],
   "source": [
    "intervalos = range(datos['Año'].min(), datos['Año'].max())\n",
    "\n",
    "plt.hist(x=datos.Año, bins=intervalos, color='#F2AB6D', rwidth=0.85)\n",
    "plt.title('Histograma de accidentes por año')\n",
    "plt.xlabel('Año')\n",
    "plt.ylabel('Frecuencia')\n",
    "plt.xticks(intervalos)\n",
    "\n",
    "plt.show()"
   ]
  },
  {
   "attachments": {},
   "cell_type": "markdown",
   "metadata": {},
   "source": [
    "Se puede notar la disminucion en la ultima decada."
   ]
  },
  {
   "cell_type": "markdown",
   "metadata": {},
   "source": [
    "Ahora vamos a ver los lugares de accidentes en la columna Ruta y normalizarlos para poder usarlos "
   ]
  },
  {
   "cell_type": "code",
   "execution_count": 172,
   "metadata": {},
   "outputs": [
    {
     "data": {
      "text/plain": [
       "array(['Elizabeth, New Jersey', 'Cleveland, Ohio',\n",
       "       'Dix Run, Pennsylvania', ..., 'Near Kaduna, Nigeria',\n",
       "       'Near Pyin Oo Lwin, Myanmar', 'Palana, Russia'], dtype=object)"
      ]
     },
     "execution_count": 172,
     "metadata": {},
     "output_type": "execute_result"
    }
   ],
   "source": [
    "datos.Ruta.unique()"
   ]
  },
  {
   "cell_type": "code",
   "execution_count": 173,
   "metadata": {},
   "outputs": [],
   "source": [
    "datos['Ruta'] = datos['Ruta'].str.replace(', ', ',')\n",
    "datos['Ruta'] = datos['Ruta'].str.replace('Over ', '')\n",
    "datos['Ruta'] = datos['Ruta'].str.replace('Near ', '')\n",
    "datos['Ruta'] = datos['Ruta'].str.replace('Off ', '')"
   ]
  },
  {
   "cell_type": "code",
   "execution_count": 174,
   "metadata": {},
   "outputs": [],
   "source": [
    "datos['Ruta'] = datos['Ruta'].str.replace('Jambol,Bulgeria', 'Jambol,Bulgaria')\n",
    "datos['Ruta'] = datos['Ruta'].str.replace(',North Sea', '')\n",
    "datos['Ruta'] = datos['Ruta'].str.replace('Cantonsville,Maryland', 'Catonsville,Maryland')\n",
    "datos['Ruta'] = datos['Ruta'].str.replace('English Channel off Forkstone,Kent', 'Folkestone,Kent')\n",
    "datos['Ruta'] = datos['Ruta'].str.replace('Catherham,Surrey,UK', 'Caterham,Surrey,UK')\n",
    "datos['Ruta'] = datos['Ruta'].str.replace('Hillersburg,Pennsylvania', 'Millersburg,Pennsylvania')\n",
    "datos['Ruta'] = datos['Ruta'].str.replace('Mendotta,Minnisota', 'Mendota,Minnesota')\n",
    "datos['Ruta'] = datos['Ruta'].str.replace('Brawnson,Nebraska', 'Brownson,Nebraska')\n",
    "datos['Ruta'] = datos['Ruta'].str.replace('La Rache,Morocco', 'LaRache,Morocco')\n",
    "datos['Ruta'] = datos['Ruta'].str.replace('the Panama coast', 'the Panama')\n",
    "datos['Ruta'] = datos['Ruta'].str.replace('the Gulf of Finland', 'Gulf of Finland')\n",
    "datos['Ruta'] = datos['Ruta'].str.replace('Desertores Island Región de Los Lagos','Desertores Island')\n",
    "datos['Ruta'] = datos['Ruta'].str.replace('Pavillon,New York', 'Pavilion,New York')\n",
    "datos['Ruta'] = datos['Ruta'].str.replace('the coast of France', 'France')\n",
    "datos['Ruta'] = datos['Ruta'].str.replace('Territory of New Guinea', 'New Guinea')\n",
    "datos['Ruta'] = datos['Ruta'].str.replace('Santiago del Estado,Argentina', 'Santiago del Estero,Argentina')\n",
    "datos['Ruta'] = datos['Ruta'].str.replace('the North Atlantic', 'North Atlantic')\n",
    "datos['Ruta'] = datos['Ruta'].str.replace('North of San Juan,Puerto Rico', 'San Juan,Puerto Rico')\n",
    "datos['Ruta'] = datos['Ruta'].str.replace('Barajas,Madrid,Spain', 'Barajas,Madrid,España')\n",
    "datos['Ruta'] = datos['Ruta'].str.replace('Mt. Butler,Hong Kong', 'Mount Butler,Hong Kong',regex=True)\n"
   ]
  },
  {
   "cell_type": "code",
   "execution_count": 175,
   "metadata": {},
   "outputs": [
    {
     "data": {
      "text/plain": [
       "Operador\n",
       "Aeroflot                           239\n",
       "Military - U.S. Air Force          128\n",
       "Air France                          64\n",
       "Deutsche Lufthansa                  61\n",
       "United Air Lines                    43\n",
       "Pan American World Airways          40\n",
       "Military - U.S. Army Air Forces     40\n",
       "American Airlines                   35\n",
       "Indian Airlines                     34\n",
       "KLM Royal Dutch Airlines            34\n",
       "Name: count, dtype: int64"
      ]
     },
     "execution_count": 175,
     "metadata": {},
     "output_type": "execute_result"
    }
   ],
   "source": [
    "datos['Operador'].value_counts().head(10)"
   ]
  },
  {
   "attachments": {},
   "cell_type": "markdown",
   "metadata": {},
   "source": [
    "Cantidad de accidentes por operador.\n",
    "El operador Aeroflot es el que mas accidentes a tenido,la aerolinea mas peligrosa.\n",
    "El operador de ejercito con mas accidentes es Military US Air Force"
   ]
  },
  {
   "cell_type": "code",
   "execution_count": 115,
   "metadata": {},
   "outputs": [],
   "source": [
    "#Guardo las transformaciones en nuevo archivo CSV\n",
    "datos.to_csv(\"Datasets/PasajerosAvion.csv\")"
   ]
  }
 ],
 "metadata": {
  "kernelspec": {
   "display_name": "Python 3",
   "language": "python",
   "name": "python3"
  },
  "language_info": {
   "codemirror_mode": {
    "name": "ipython",
    "version": 3
   },
   "file_extension": ".py",
   "mimetype": "text/x-python",
   "name": "python",
   "nbconvert_exporter": "python",
   "pygments_lexer": "ipython3",
   "version": "3.11.1 (tags/v3.11.1:a7a450f, Dec  6 2022, 19:58:39) [MSC v.1934 64 bit (AMD64)]"
  },
  "orig_nbformat": 4,
  "vscode": {
   "interpreter": {
    "hash": "e050828b1423e586635d2b062766abd1099bf1b26177c0ee6233c705d41a4dfe"
   }
  }
 },
 "nbformat": 4,
 "nbformat_minor": 2
}
